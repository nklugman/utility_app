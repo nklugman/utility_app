{
 "cells": [
  {
   "cell_type": "code",
   "execution_count": 2,
   "metadata": {
    "collapsed": false
   },
   "outputs": [
    {
     "name": "stderr",
     "output_type": "stream",
     "text": [
      "PdfReadWarning: Xref table not zero-indexed. ID numbers for objects will be corrected. [pdf.py:1736]\n"
     ]
    },
    {
     "name": "stdout",
     "output_type": "stream",
     "text": [
      "finish\n"
     ]
    }
   ],
   "source": [
    "import os\n",
    "import PyPDF2\n",
    "import re\n",
    "import psycopg2\n",
    "import sys\n",
    "\n",
    "def walk_dir(dir,fileinfo,topdown=True):\n",
    "    for root, dirs, files in os.walk(dir, topdown):\n",
    "        for name in files:\n",
    "            fileinfo.write(os.path.join(root,name) + '\\n')\n",
    "\n",
    "def parse(directory):\n",
    "    list=[]\n",
    "    county = \"\"\n",
    "    r = \"\"\n",
    "    pdfFileObj = open(directory, 'rb')\n",
    "    pdfReader = PyPDF2.PdfFileReader(pdfFileObj)\n",
    "    num_pages = pdfReader.numPages\n",
    "    for i in range(num_pages):\n",
    "        pageObj = pdfReader.getPage(i)\n",
    "        text = pageObj.extractText()\n",
    "\n",
    "        text = text.replace(\"\\n\",\"\")\n",
    "        text = text.replace(\"Œ\",\"-\")\n",
    "        text = text.replace(\"™\",\"'\")\n",
    "        text = text.replace(\"˚\",\"ffi\")\n",
    "        text = text.replace(\"˛\",\"ff\")\n",
    "        text = text.replace(\"˜\",\"fi\")\n",
    "        text = text.replace(\"˝\",\"fl\")\n",
    "\n",
    "        content=text.split(\"Notice is hereby \")\n",
    "        for j in range(len(content)):\n",
    "            if j == 0:\n",
    "                regions  = re.split(\"((?:[A-Z])(?:[A-Z|\\.]+\\s)+(?:REGION))\", content[0])\n",
    "            else:\n",
    "                content=content[1].split(\"etc.)\")\n",
    "                regions  = re.split(\"((?:[A-Z])(?:[A-Z|\\.]+\\s)+(?:REGION))\", content[1])\n",
    "            \n",
    "            for region in regions:\n",
    "\n",
    "               if re.search('.+(REGION)',region):\n",
    "                   r = str(region).strip()\n",
    "               else:\n",
    "                  area_ints = region.split(\"AREA: \")\n",
    "                  for area_int in area_ints:\n",
    "                      areas = area_int.split(\"& adjacent customers.\")\n",
    "                      long_street = \"\" \n",
    "                      for area in areas:\n",
    "\n",
    "                         if re.search('COUNTY',area):\n",
    "                            county = str(area).strip()\n",
    "                         else:\n",
    "\n",
    "                             if not re.search('^\\s*$',area):\n",
    "                                a=\"\"\n",
    "\n",
    "                                if re.search('.*(?=DATE)',area):\n",
    "                                    area_break = re.search('.*(?=DATE)',area).end()\n",
    "                                    a = area[:area_break].strip()\n",
    "\n",
    "                                areas_=a.split(\",\")\n",
    "                                for area_ in areas_:\n",
    "                                    if re.search('PART OF|PARTS OF',area_):\n",
    "                                        area__break=re.search('PART OF|PARTS OF',area_).end()\n",
    "                                        area_=area_[area__break:].strip()\n",
    "                                    list.append([r,area_.strip()])\n",
    "    pdfFileObj.close()\n",
    "    return list\n",
    "                                    \n",
    "dir = r'C:\\GridWatch\\Parsing service interruptions\\Readable pdfs' #dir of folder\n",
    "fileinfo = open('C:\\\\GridWatch\\\\Parsing service interruptions\\\\test2.txt','w')\n",
    "walk_dir(dir,fileinfo)\n",
    "fileinfo.close()\n",
    "\n",
    "f = open('C:\\\\GridWatch\\\\Parsing service interruptions\\\\test2.txt','r')\n",
    "#o = open('C:\\\\GridWatch\\\\Parsing service interruptions\\\\list1.txt','w')\n",
    "master=[]\n",
    "con = psycopg2.connect(database='outage_map', user='postgres') \n",
    "#con = psycopg2.connect(database='capstone', user='capstone', password='capstone', host='141.212.11.206', port='5432')\n",
    "con.autocommit = True\n",
    "cur = con.cursor()\n",
    "for line in f:\n",
    "    directory = line.replace(\"\\n\",\"\")\n",
    "    list = parse(directory)\n",
    "    for area in list:\n",
    "        if area not in master and len(area[1])>2:\n",
    "            master.append(area)\n",
    "\n",
    "cur.execute(\"DROP TABLE IF EXISTS area\")\n",
    "cur.execute(\"CREATE TABLE area(index SERIAL PRIMARY KEY)\")\n",
    "cur.execute(\"ALTER TABLE area ADD region text\")\n",
    "cur.execute(\"ALTER TABLE area ADD area text\")\n",
    "for element in master:\n",
    "    for j in range(2):\n",
    "        if element[j]==\"\":\n",
    "            element[j]=None\n",
    "    #print(element)\n",
    "\n",
    "try:\n",
    "    dataText = ', '.join(map(bytes.decode,(cur.mogrify('(%s,%s)', element) for element in master)))\n",
    "    cur.execute('INSERT INTO area (region, area) VALUES ' + dataText)\n",
    "    #cur.execute(\"INSERT INTO area (region, area) VALUES (%s, %s)\",element)\n",
    "except Exception as e:\n",
    "    print(e)\n",
    "    print(directory)\n",
    "    print(list)\n",
    "    print(\"----------------------------\")\n",
    "f.close()\n",
    "#o.close()\n",
    "con.commit()\n",
    "print(\"finish\")"
   ]
  },
  {
   "cell_type": "code",
   "execution_count": 9,
   "metadata": {
    "collapsed": false
   },
   "outputs": [
    {
     "name": "stdout",
     "output_type": "stream",
     "text": [
      "(8331,)\n"
     ]
    }
   ],
   "source": [
    "import psycopg2\n",
    "import sys\n",
    "\n",
    "#con = psycopg2.connect(database='outage_map', user='postgres')\n",
    "con = psycopg2.connect(database='capstone', user='capstone', password='capstone', host='141.212.11.206', port='5432')\n",
    "con.autocommit = True\n",
    "cur = con.cursor()\n",
    "cur.execute(\"SELECT MAX(index) FROM area\")\n",
    "count = cur.fetchall()\n",
    "print(count[0])"
   ]
  },
  {
   "cell_type": "code",
   "execution_count": null,
   "metadata": {
    "collapsed": true
   },
   "outputs": [],
   "source": []
  }
 ],
 "metadata": {
  "anaconda-cloud": {},
  "kernelspec": {
   "display_name": "Python [conda root]",
   "language": "python",
   "name": "conda-root-py"
  },
  "language_info": {
   "codemirror_mode": {
    "name": "ipython",
    "version": 3
   },
   "file_extension": ".py",
   "mimetype": "text/x-python",
   "name": "python",
   "nbconvert_exporter": "python",
   "pygments_lexer": "ipython3",
   "version": "3.5.2"
  }
 },
 "nbformat": 4,
 "nbformat_minor": 1
}
