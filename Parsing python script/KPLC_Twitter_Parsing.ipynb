{
 "cells": [
  {
   "cell_type": "code",
   "execution_count": 9,
   "metadata": {
    "collapsed": false
   },
   "outputs": [
    {
     "name": "stdout",
     "output_type": "stream",
     "text": [
      "b'@KenyaPower_Care Day 4... No power in Buruburu...'\n",
      "BURUBURU\n",
      "b'@KenyaPower_Care Day 4... No power in Buruburu...'\n",
      "BURUBURU\n",
      "b'@KenyaPower_Care changing diapers in the dark is a consternate kibarua..kindly sort us out..no power in buruburu every night'\n",
      "BURUBURU\n",
      "b'@KenyaPower_Care changing diapers in the dark is a consternate kibarua..kindly sort us out..no power in buruburu every night'\n",
      "BURUBURU\n",
      "b\"@Gamesis It's the whole of Buruburu @KenyaPower_Care\"\n",
      "BURUBURU\n",
      "b\"@Gamesis It's the whole of Buruburu @KenyaPower_Care\"\n",
      "BURUBURU\n",
      "b\"@KenyaPower_Care we still don't have power in Kahawa sukari matopeni area for the last 12 hours now..can you please fix the issue...\"\n",
      "KAHAWA\n",
      "b\"@KenyaPower_Care we still don't have power in Kahawa sukari matopeni area for the last 12 hours now..can you please fix the issue...\"\n",
      "KAHAWA SUKARI\n",
      "b\"@KenyaPower_Care we still don't have power in Kahawa sukari matopeni area for the last 12 hours now..can you please fix the issue...\"\n",
      "SUKARI\n",
      "b\"@KenyaPower_Care we still don't have power in Kahawa sukari matopeni area for the last 12 hours now..can you please fix the issue...\"\n",
      "KAHAWA\n",
      "b\"@KenyaPower_Care we still don't have power in Kahawa sukari matopeni area for the last 12 hours now..can you please fix the issue...\"\n",
      "MATOPENI\n",
      "b'@Gamesis Yes, @ConsumersKenya How does a main fault happen everyday at the same time since Wednesday in Buruburu? @KenyaPower_Care'\n",
      "BURUBURU\n",
      "b'@Gamesis Yes, @ConsumersKenya How does a main fault happen everyday at the same time since Wednesday in Buruburu? @KenyaPower_Care'\n",
      "BURUBURU\n",
      "finish\n"
     ]
    }
   ],
   "source": [
    "import pandas as pd\n",
    "import re\n",
    "import psycopg2\n",
    "import sys\n",
    "\n",
    "def parse_tweet(tweet,con):\n",
    "    result=[]\n",
    "    list_=[]\n",
    "    cur = con.cursor()\n",
    "    cur.execute(\"SELECT area FROM area\")\n",
    "    rows = cur.fetchall()\n",
    "    for row in rows:\n",
    "        if re.search((\" \"+str(row[0])) or (str(row[0])+\" \"),tweet,re.I):\n",
    "            print(tweet)\n",
    "            cur.execute(\"SELECT area FROM area WHERE area = '%s'\" % (str(row[0])))\n",
    "            area=cur.fetchall()\n",
    "            print(area[0][0])\n",
    "\n",
    "tweets=pd.read_csv(r'C:\\GridWatch\\utility_app\\data\\Tweet_Collect_and_Update\\kenyapower_care.csv',skipinitialspace=True)\n",
    "con = psycopg2.connect(database='outage_map', user='postgres') \n",
    "#con = psycopg2.connect(database='capstone', user='capstone', password='capstone', host='141.212.11.206', port='5432')\n",
    "con.autocommit = True\n",
    "for i in range(len(tweets)):\n",
    "    tweet = tweets.iloc[i]['reply']\n",
    "    parse_tweet(tweet,con)\n",
    "print(\"finish\")"
   ]
  },
  {
   "cell_type": "code",
   "execution_count": null,
   "metadata": {
    "collapsed": true
   },
   "outputs": [],
   "source": []
  }
 ],
 "metadata": {
  "anaconda-cloud": {},
  "kernelspec": {
   "display_name": "Python [conda root]",
   "language": "python",
   "name": "conda-root-py"
  },
  "language_info": {
   "codemirror_mode": {
    "name": "ipython",
    "version": 3
   },
   "file_extension": ".py",
   "mimetype": "text/x-python",
   "name": "python",
   "nbconvert_exporter": "python",
   "pygments_lexer": "ipython3",
   "version": "3.5.2"
  }
 },
 "nbformat": 4,
 "nbformat_minor": 1
}
