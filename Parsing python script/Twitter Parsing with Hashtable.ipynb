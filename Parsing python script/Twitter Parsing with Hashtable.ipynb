{
 "cells": [
  {
   "cell_type": "code",
   "execution_count": null,
   "metadata": {
    "collapsed": false
   },
   "outputs": [],
   "source": [
    "import pandas as pd\n",
    "import re\n",
    "import psycopg2\n",
    "import sys\n",
    "\n",
    "def puzzle(wordList,i): #this phrase has i+1 words\n",
    "    length=len(wordList)\n",
    "    puzzleList=[]\n",
    "    for j in range(length//(i+1)):\n",
    "        phrase=\"\"\n",
    "        for k in range(i+1):\n",
    "            phrase=phrase+wordList[i*j+k]+\" \" #the kth word in the jth phrase\n",
    "        puzzleList.append(phrase.strip())\n",
    "    return puzzleList\n",
    "\n",
    "def parse_tweet(tweet,dict):\n",
    "    wordList = re.sub(\"[^\\w]\", \" \",  tweet).split()\n",
    "    for word in wordList:\n",
    "        if word in dict[0]:\n",
    "            print(tweet)\n",
    "            print(word)\n",
    "    for i in range(1,10):\n",
    "        puzzleList=puzzle(wordList,i)\n",
    "        for word in puzzleList:\n",
    "            if word in dict[i]:\n",
    "                print(tweet)\n",
    "                print(word)\n",
    "\n",
    "tweets=pd.read_csv(r'C:\\GridWatch\\utility_app\\data\\Tweet_Collect_and_Update\\kenyapower_care_all_replies.csv',skipinitialspace=True)\n",
    "con = psycopg2.connect(database='outage_map', user='postgres') \n",
    "#con = psycopg2.connect(database='capstone', user='capstone', password='capstone', host='141.212.11.206', port='5432')\n",
    "con.autocommit = True\n",
    "cur = con.cursor()\n",
    "cur.execute(\"SELECT area FROM area\")\n",
    "rows = cur.fetchall()\n",
    "dict=[]\n",
    "for i in range(10):\n",
    "    dict.append({})\n",
    "for row in rows:\n",
    "    area=str(row[0]).lower()\n",
    "    areaList=area.split()\n",
    "    length=len(areaList)\n",
    "    dict[length-1][area]=area\n",
    "for i in range(len(tweets)):\n",
    "    tweet = tweets.iloc[i]['reply'].lower()\n",
    "    parse_tweet(tweet,dict)\n",
    "print(\"finish\")"
   ]
  },
  {
   "cell_type": "code",
   "execution_count": null,
   "metadata": {
    "collapsed": true
   },
   "outputs": [],
   "source": []
  }
 ],
 "metadata": {
  "anaconda-cloud": {},
  "kernelspec": {
   "display_name": "Python [conda root]",
   "language": "python",
   "name": "conda-root-py"
  },
  "language_info": {
   "codemirror_mode": {
    "name": "ipython",
    "version": 3
   },
   "file_extension": ".py",
   "mimetype": "text/x-python",
   "name": "python",
   "nbconvert_exporter": "python",
   "pygments_lexer": "ipython3",
   "version": "3.5.2"
  }
 },
 "nbformat": 4,
 "nbformat_minor": 1
}
